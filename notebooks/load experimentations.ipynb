{
 "cells": [
  {
   "cell_type": "code",
   "execution_count": null,
   "id": "8c09bde8-8322-443b-90ff-2ba1e097b6e8",
   "metadata": {},
   "outputs": [
    {
     "name": "stdout",
     "output_type": "stream",
     "text": [
      "('master',)\n",
      "('tempdb',)\n",
      "('model',)\n",
      "('msdb',)\n",
      "('MyDatabase',)\n",
      "('SalesDB',)\n",
      "('DataWarehouse',)\n",
      "('Weather_db',)\n"
     ]
    }
   ],
   "source": [
    "import sqlalchemy as sa\n",
    "from sqlalchemy.engine import URL\n",
    "connection_url = URL.create(\n",
    "    \"mssql+pyodbc\",\n",
    "    host=\"localhost\", \n",
    "    database=\"Weather_db\",          \n",
    "    query={\n",
    "        \"driver\": \"ODBC Driver 17 for SQL Server\",\n",
    "        \"trusted_connection\": \"yes\"\n",
    "    }\n",
    ")\n",
    "\n",
    "engine = sa.create_engine(connection_url)\n",
    "\n",
    "\n",
    "with engine.connect() as conn:\n",
    "    result = conn.execute(sa.text(\"SELECT name FROM sys.databases\"))\n",
    "    for row in result:\n",
    "        print(row)"
   ]
  },
  {
   "cell_type": "code",
   "execution_count": 10,
   "id": "db61c8db-663a-4c42-94e3-1364ebc06473",
   "metadata": {},
   "outputs": [],
   "source": [
    "\n",
    "metadata = sa.MetaData()\n",
    "\n",
    "air_pollution_table = sa.Table (\n",
    "    \"air_pollution\",\n",
    "    metadata,\n",
    "    sa.Column(\"id\", sa.Integer , primary_key=True),\n",
    "    sa.Column(\"dt\", sa.Date),\n",
    "    sa.Column(\"main_aqi\",sa.Integer),\n",
    "    sa.Column(\"components_co\", sa.Float),\n",
    "    sa.Column(\"components_no\", sa.Float),\n",
    "    sa.Column(\"components_no2\", sa.Float),\n",
    "    sa.Column(\"components_o3\", sa.Float),\n",
    "    sa.Column(\"components_so2\", sa.Float),\n",
    "    sa.Column(\"components_pm2_5\", sa.Float),\n",
    "    sa.Column(\"components_pm10\", sa.Float),\n",
    "    sa.Column(\"components_nh3\", sa.Float),\n",
    "    sa.Column(\"main_aqi_desc\", sa.String[50]),\n",
    "    sa.Column(\"coord_lon\", sa.Float),\n",
    "    sa.Column(\"coord_lat\", sa.Float),\n",
    "    sa.Column(\"city\", sa.String[50])\n",
    ")\n",
    "\n",
    "\n",
    "\n",
    "metadata.create_all(engine)\n",
    "    \n",
    "              "
   ]
  },
  {
   "cell_type": "code",
   "execution_count": 15,
   "id": "35422a79-894d-4926-89e5-ce336a394eac",
   "metadata": {},
   "outputs": [
    {
     "data": {
      "text/plain": [
       "1"
      ]
     },
     "execution_count": 15,
     "metadata": {},
     "output_type": "execute_result"
    }
   ],
   "source": [
    "import pandas as pd\n",
    "df = pd.DataFrame([\n",
    "    {\"dt\": \"2025-08-30\", \"main_aqi\": 2, \"components_co\": 0.5, \"city\": \"Athens\"},\n",
    "\n",
    "])\n",
    "\n",
    "df.to_sql(\n",
    "    \"air_pollution\",\n",
    "    con=engine,\n",
    "    if_exists=\"append\",\n",
    "    index=False\n",
    ")"
   ]
  },
  {
   "cell_type": "code",
   "execution_count": null,
   "id": "cfa2df54-988b-49fa-9053-c10562316fce",
   "metadata": {},
   "outputs": [],
   "source": []
  }
 ],
 "metadata": {
  "kernelspec": {
   "display_name": "Python 3 (ipykernel)",
   "language": "python",
   "name": "python3"
  },
  "language_info": {
   "codemirror_mode": {
    "name": "ipython",
    "version": 3
   },
   "file_extension": ".py",
   "mimetype": "text/x-python",
   "name": "python",
   "nbconvert_exporter": "python",
   "pygments_lexer": "ipython3",
   "version": "3.13.5"
  }
 },
 "nbformat": 4,
 "nbformat_minor": 5
}
